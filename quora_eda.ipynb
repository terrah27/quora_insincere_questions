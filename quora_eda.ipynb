{
 "cells": [
  {
   "cell_type": "markdown",
   "metadata": {},
   "source": [
    "# Quora Insincere Questions Exploratory Data Analysis\n",
    "\n",
    "We will explore the training data in order to come up with insights and a plan for modeling."
   ]
  },
  {
   "cell_type": "code",
   "execution_count": 1,
   "metadata": {},
   "outputs": [],
   "source": [
    "# import packages\n",
    "import numpy as np\n",
    "import pandas as pd\n",
    "\n",
    "import matplotlib.pyplot as plt\n",
    "import seaborn as sns\n",
    "\n",
    "import spacy\n",
    "import nltk\n",
    "import re\n",
    "\n",
    "from sklearn.model_selection import train_test_split\n",
    "from sklearn.metrics import f1_score\n",
    "\n",
    "np.random.seed(27)"
   ]
  },
  {
   "cell_type": "code",
   "execution_count": 2,
   "metadata": {},
   "outputs": [],
   "source": [
    "# setting up default plotting parameters\n",
    "%matplotlib inline\n",
    "\n",
    "plt.rcParams['figure.figsize'] = [20.0, 7.0]\n",
    "plt.rcParams.update({'font.size': 22,})\n",
    "\n",
    "sns.set_palette('Set2')\n",
    "sns.set_style('white')\n",
    "sns.set_context('talk', font_scale=0.8)"
   ]
  },
  {
   "cell_type": "code",
   "execution_count": 3,
   "metadata": {},
   "outputs": [
    {
     "name": "stdout",
     "output_type": "stream",
     "text": [
      "(1306122, 3)\n"
     ]
    },
    {
     "data": {
      "text/html": [
       "<div>\n",
       "<style scoped>\n",
       "    .dataframe tbody tr th:only-of-type {\n",
       "        vertical-align: middle;\n",
       "    }\n",
       "\n",
       "    .dataframe tbody tr th {\n",
       "        vertical-align: top;\n",
       "    }\n",
       "\n",
       "    .dataframe thead th {\n",
       "        text-align: right;\n",
       "    }\n",
       "</style>\n",
       "<table border=\"1\" class=\"dataframe\">\n",
       "  <thead>\n",
       "    <tr style=\"text-align: right;\">\n",
       "      <th></th>\n",
       "      <th>qid</th>\n",
       "      <th>question_text</th>\n",
       "      <th>target</th>\n",
       "    </tr>\n",
       "  </thead>\n",
       "  <tbody>\n",
       "    <tr>\n",
       "      <th>0</th>\n",
       "      <td>00002165364db923c7e6</td>\n",
       "      <td>How did Quebec nationalists see their province...</td>\n",
       "      <td>0</td>\n",
       "    </tr>\n",
       "    <tr>\n",
       "      <th>1</th>\n",
       "      <td>000032939017120e6e44</td>\n",
       "      <td>Do you have an adopted dog, how would you enco...</td>\n",
       "      <td>0</td>\n",
       "    </tr>\n",
       "    <tr>\n",
       "      <th>2</th>\n",
       "      <td>0000412ca6e4628ce2cf</td>\n",
       "      <td>Why does velocity affect time? Does velocity a...</td>\n",
       "      <td>0</td>\n",
       "    </tr>\n",
       "    <tr>\n",
       "      <th>3</th>\n",
       "      <td>000042bf85aa498cd78e</td>\n",
       "      <td>How did Otto von Guericke used the Magdeburg h...</td>\n",
       "      <td>0</td>\n",
       "    </tr>\n",
       "    <tr>\n",
       "      <th>4</th>\n",
       "      <td>0000455dfa3e01eae3af</td>\n",
       "      <td>Can I convert montra helicon D to a mountain b...</td>\n",
       "      <td>0</td>\n",
       "    </tr>\n",
       "  </tbody>\n",
       "</table>\n",
       "</div>"
      ],
      "text/plain": [
       "                    qid                                      question_text  \\\n",
       "0  00002165364db923c7e6  How did Quebec nationalists see their province...   \n",
       "1  000032939017120e6e44  Do you have an adopted dog, how would you enco...   \n",
       "2  0000412ca6e4628ce2cf  Why does velocity affect time? Does velocity a...   \n",
       "3  000042bf85aa498cd78e  How did Otto von Guericke used the Magdeburg h...   \n",
       "4  0000455dfa3e01eae3af  Can I convert montra helicon D to a mountain b...   \n",
       "\n",
       "   target  \n",
       "0       0  \n",
       "1       0  \n",
       "2       0  \n",
       "3       0  \n",
       "4       0  "
      ]
     },
     "execution_count": 3,
     "metadata": {},
     "output_type": "execute_result"
    }
   ],
   "source": [
    "# load in data and print shape and head\n",
    "raw_data = pd.read_csv('train.csv')\n",
    "print(raw_data.shape)\n",
    "raw_data.head()"
   ]
  },
  {
   "cell_type": "code",
   "execution_count": 4,
   "metadata": {},
   "outputs": [
    {
     "data": {
      "text/html": [
       "<div>\n",
       "<style scoped>\n",
       "    .dataframe tbody tr th:only-of-type {\n",
       "        vertical-align: middle;\n",
       "    }\n",
       "\n",
       "    .dataframe tbody tr th {\n",
       "        vertical-align: top;\n",
       "    }\n",
       "\n",
       "    .dataframe thead th {\n",
       "        text-align: right;\n",
       "    }\n",
       "</style>\n",
       "<table border=\"1\" class=\"dataframe\">\n",
       "  <thead>\n",
       "    <tr style=\"text-align: right;\">\n",
       "      <th></th>\n",
       "      <th>qid</th>\n",
       "      <th>question_text</th>\n",
       "      <th>target</th>\n",
       "    </tr>\n",
       "  </thead>\n",
       "  <tbody>\n",
       "    <tr>\n",
       "      <th>1306117</th>\n",
       "      <td>ffffcc4e2331aaf1e41e</td>\n",
       "      <td>What other technical skills do you need as a c...</td>\n",
       "      <td>0</td>\n",
       "    </tr>\n",
       "    <tr>\n",
       "      <th>1306118</th>\n",
       "      <td>ffffd431801e5a2f4861</td>\n",
       "      <td>Does MS in ECE have good job prospects in USA ...</td>\n",
       "      <td>0</td>\n",
       "    </tr>\n",
       "    <tr>\n",
       "      <th>1306119</th>\n",
       "      <td>ffffd48fb36b63db010c</td>\n",
       "      <td>Is foam insulation toxic?</td>\n",
       "      <td>0</td>\n",
       "    </tr>\n",
       "    <tr>\n",
       "      <th>1306120</th>\n",
       "      <td>ffffec519fa37cf60c78</td>\n",
       "      <td>How can one start a research project based on ...</td>\n",
       "      <td>0</td>\n",
       "    </tr>\n",
       "    <tr>\n",
       "      <th>1306121</th>\n",
       "      <td>ffffed09fedb5088744a</td>\n",
       "      <td>Who wins in a battle between a Wolverine and a...</td>\n",
       "      <td>0</td>\n",
       "    </tr>\n",
       "  </tbody>\n",
       "</table>\n",
       "</div>"
      ],
      "text/plain": [
       "                          qid  \\\n",
       "1306117  ffffcc4e2331aaf1e41e   \n",
       "1306118  ffffd431801e5a2f4861   \n",
       "1306119  ffffd48fb36b63db010c   \n",
       "1306120  ffffec519fa37cf60c78   \n",
       "1306121  ffffed09fedb5088744a   \n",
       "\n",
       "                                             question_text  target  \n",
       "1306117  What other technical skills do you need as a c...       0  \n",
       "1306118  Does MS in ECE have good job prospects in USA ...       0  \n",
       "1306119                          Is foam insulation toxic?       0  \n",
       "1306120  How can one start a research project based on ...       0  \n",
       "1306121  Who wins in a battle between a Wolverine and a...       0  "
      ]
     },
     "execution_count": 4,
     "metadata": {},
     "output_type": "execute_result"
    }
   ],
   "source": [
    "# print tail\n",
    "raw_data.tail(5)"
   ]
  },
  {
   "cell_type": "code",
   "execution_count": 5,
   "metadata": {},
   "outputs": [
    {
     "data": {
      "image/png": "[encoded data removed]",
      "text/plain": [
       "<Figure size 1440x504 with 1 Axes>"
      ]
     },
     "metadata": {},
     "output_type": "display_data"
    }
   ],
   "source": [
    "# using seaborns countplot to show distribution of questions in dataset\n",
    "fig, ax = plt.subplots()\n",
    "g = sns.countplot(raw_data.target)\n",
    "g.set_xticklabels(['Sincere', 'Insincere'])\n",
    "g.set_yticklabels([])\n",
    "\n",
    "# function to show values on bars\n",
    "def show_values_on_bars(axs):\n",
    "    def _show_on_single_plot(ax):        \n",
    "        for p in ax.patches:\n",
    "            _x = p.get_x() + p.get_width() / 2\n",
    "            _y = p.get_y() + p.get_height()\n",
    "            value = '{:.0f}'.format(p.get_height())\n",
    "            ax.text(_x, _y, value, ha=\"center\") \n",
    "\n",
    "    if isinstance(axs, np.ndarray):\n",
    "        for idx, ax in np.ndenumerate(axs):\n",
    "            _show_on_single_plot(ax)\n",
    "    else:\n",
    "        _show_on_single_plot(axs)\n",
    "show_values_on_bars(ax)\n",
    "\n",
    "sns.despine(left=True, bottom=True)\n",
    "plt.xlabel('')\n",
    "plt.ylabel('')\n",
    "plt.title('Distribution of Questions', fontsize=30)\n",
    "plt.tick_params(axis='x', which='major', labelsize=15)\n",
    "plt.show()"
   ]
  },
  {
   "cell_type": "code",
   "execution_count": 6,
   "metadata": {},
   "outputs": [
    {
     "data": {
      "text/plain": [
       "6.595054973753624"
      ]
     },
     "execution_count": 6,
     "metadata": {},
     "output_type": "execute_result"
    }
   ],
   "source": [
    "# print percentage of questions where target == 1\n",
    "(len(raw_data.loc[raw_data.target==1])) / (len(raw_data.loc[raw_data.target == 0])) * 100"
   ]
  },
  {
   "cell_type": "markdown",
   "metadata": {},
   "source": [
    "### Class Imbalance\n",
    "Imbalanced classes are a common problem in machine learning classification where there are a disproportionate ratio of observations in each class.  With just 6.6% of our dataset belonging to the target class, we can definitely have an imbalanced class!\n",
    "\n",
    "This is a problem because many machine learning models are designed to maximize overall accuracy, which especially with imbalanced classes may not be the best metric to use.  Classification accuracy is defined as the number of correct predictions divided by total predictions times 100.  For example, if we simply predicted that all questions are sincere, we would get a classification acuracy score of 93%!\n",
    "\n",
    "This competition uses the F1 score which balances precision and recall.\n",
    " - Precision is the number of true positives divided by all positive predictions.  Precision is also called Positive Predictive Value.  It is a measure of a classifier's exactness.  Low precision indicates a high number of false positives.\n",
    " - Recall is the number of true positives divided by the number of positive values in the test data.  Recall is also called Sensitivity or the True Positive Rate.  It is a measure of a classifier's completeness.  Low recall indicates a high number of false negatives."
   ]
  },
  {
   "cell_type": "code",
   "execution_count": 7,
   "metadata": {},
   "outputs": [
    {
     "name": "stdout",
     "output_type": "stream",
     "text": [
      "How did the swamp drain Donald Trump?\n",
      "What exactly are gun-supporting Americans scared of 24/7 that feel the need to strongly hold on to their guns? Nobody in the rest of the world feels so.\n",
      "Does China innovate anything themselves, or just rely on stealing American’s intellectual property?\n",
      "Why Mumbai people hate Pune people and rest Indians?\n",
      "Why did the Muslim population increase by 5 times while the Hindu population increased by 3 times between 1951 and 2011? Is this trend dangerous?\n"
     ]
    }
   ],
   "source": [
    "# printing out a random sample of questions labeled insincere\n",
    "import random\n",
    "\n",
    "index = random.sample(raw_data.index[raw_data.target == 1].tolist(), 5)\n",
    "for i in index:\n",
    "    print(raw_data.iloc[i, 1])"
   ]
  },
  {
   "cell_type": "code",
   "execution_count": 8,
   "metadata": {},
   "outputs": [],
   "source": [
    "# taking a small sample (with downsampling of majority class) of the training data to speed up processing\n",
    "from sklearn.utils import resample\n",
    "\n",
    "sincere = raw_data[raw_data.target == 0]\n",
    "insincere = raw_data[raw_data.target == 1]\n",
    "\n",
    "df = pd.concat([resample(sincere,\n",
    "                     replace = False,\n",
    "                     n_samples = len(insincere)), insincere])"
   ]
  },
  {
   "cell_type": "code",
   "execution_count": 10,
   "metadata": {},
   "outputs": [
    {
     "data": {
      "text/html": [
       "<div>\n",
       "<style scoped>\n",
       "    .dataframe tbody tr th:only-of-type {\n",
       "        vertical-align: middle;\n",
       "    }\n",
       "\n",
       "    .dataframe tbody tr th {\n",
       "        vertical-align: top;\n",
       "    }\n",
       "\n",
       "    .dataframe thead th {\n",
       "        text-align: right;\n",
       "    }\n",
       "</style>\n",
       "<table border=\"1\" class=\"dataframe\">\n",
       "  <thead>\n",
       "    <tr style=\"text-align: right;\">\n",
       "      <th></th>\n",
       "      <th>qid</th>\n",
       "      <th>question_text</th>\n",
       "      <th>target</th>\n",
       "      <th>tokens</th>\n",
       "    </tr>\n",
       "  </thead>\n",
       "  <tbody>\n",
       "    <tr>\n",
       "      <th>1020074</th>\n",
       "      <td>c7e4692c467ee7a1f0d9</td>\n",
       "      <td>Is needing human interaction the same as narci...</td>\n",
       "      <td>0</td>\n",
       "      <td>(Is, needing, human, interaction, the, same, a...</td>\n",
       "    </tr>\n",
       "    <tr>\n",
       "      <th>1181596</th>\n",
       "      <td>e78cf52e9de4428952fd</td>\n",
       "      <td>Why Narendra Modi like Gujarat cadre IAS K. Ka...</td>\n",
       "      <td>0</td>\n",
       "      <td>(Why, Narendra, Modi, like, Gujarat, cadre, IA...</td>\n",
       "    </tr>\n",
       "    <tr>\n",
       "      <th>1196269</th>\n",
       "      <td>ea76fdc69a81bbf8f2be</td>\n",
       "      <td>How can an e-commerce business benefits from u...</td>\n",
       "      <td>0</td>\n",
       "      <td>(How, can, an, e, -, commerce, business, benef...</td>\n",
       "    </tr>\n",
       "    <tr>\n",
       "      <th>485161</th>\n",
       "      <td>5f02af0f5369af9139e1</td>\n",
       "      <td>Why are Indians on Quora so concerned about ot...</td>\n",
       "      <td>1</td>\n",
       "      <td>(Why, are, Indians, on, Quora, so, concerned, ...</td>\n",
       "    </tr>\n",
       "    <tr>\n",
       "      <th>536153</th>\n",
       "      <td>69050bdd43387b192628</td>\n",
       "      <td>Why are there so many homophobic aggressions b...</td>\n",
       "      <td>1</td>\n",
       "      <td>(Why, are, there, so, many, homophobic, aggres...</td>\n",
       "    </tr>\n",
       "  </tbody>\n",
       "</table>\n",
       "</div>"
      ],
      "text/plain": [
       "                          qid  \\\n",
       "1020074  c7e4692c467ee7a1f0d9   \n",
       "1181596  e78cf52e9de4428952fd   \n",
       "1196269  ea76fdc69a81bbf8f2be   \n",
       "485161   5f02af0f5369af9139e1   \n",
       "536153   69050bdd43387b192628   \n",
       "\n",
       "                                             question_text  target  \\\n",
       "1020074  Is needing human interaction the same as narci...       0   \n",
       "1181596  Why Narendra Modi like Gujarat cadre IAS K. Ka...       0   \n",
       "1196269  How can an e-commerce business benefits from u...       0   \n",
       "485161   Why are Indians on Quora so concerned about ot...       1   \n",
       "536153   Why are there so many homophobic aggressions b...       1   \n",
       "\n",
       "                                                    tokens  \n",
       "1020074  (Is, needing, human, interaction, the, same, a...  \n",
       "1181596  (Why, Narendra, Modi, like, Gujarat, cadre, IA...  \n",
       "1196269  (How, can, an, e, -, commerce, business, benef...  \n",
       "485161   (Why, are, Indians, on, Quora, so, concerned, ...  \n",
       "536153   (Why, are, there, so, many, homophobic, aggres...  "
      ]
     },
     "execution_count": 10,
     "metadata": {},
     "output_type": "execute_result"
    }
   ],
   "source": [
    "# tokenize with spacy\n",
    "nlp = spacy.load('en')\n",
    "\n",
    "df['tokens'] = [nlp(text, disable=['ner']) for text in df.question_text]\n",
    "df.sample(5)"
   ]
  },
  {
   "cell_type": "code",
   "execution_count": 11,
   "metadata": {},
   "outputs": [
    {
     "data": {
      "text/html": [
       "<div>\n",
       "<style scoped>\n",
       "    .dataframe tbody tr th:only-of-type {\n",
       "        vertical-align: middle;\n",
       "    }\n",
       "\n",
       "    .dataframe tbody tr th {\n",
       "        vertical-align: top;\n",
       "    }\n",
       "\n",
       "    .dataframe thead th {\n",
       "        text-align: right;\n",
       "    }\n",
       "</style>\n",
       "<table border=\"1\" class=\"dataframe\">\n",
       "  <thead>\n",
       "    <tr style=\"text-align: right;\">\n",
       "      <th></th>\n",
       "      <th>qid</th>\n",
       "      <th>question_text</th>\n",
       "      <th>target</th>\n",
       "      <th>tokens</th>\n",
       "      <th>num_tokens</th>\n",
       "    </tr>\n",
       "  </thead>\n",
       "  <tbody>\n",
       "    <tr>\n",
       "      <th>440801</th>\n",
       "      <td>5662c432672586e2c788</td>\n",
       "      <td>I have recently gained interest in digital mar...</td>\n",
       "      <td>0</td>\n",
       "      <td>(I, have, recently, gained, interest, in, digi...</td>\n",
       "      <td>34</td>\n",
       "    </tr>\n",
       "    <tr>\n",
       "      <th>1213574</th>\n",
       "      <td>eddbc178b01f81b009a0</td>\n",
       "      <td>What should people know in order to be a liber...</td>\n",
       "      <td>1</td>\n",
       "      <td>(What, should, people, know, in, order, to, be...</td>\n",
       "      <td>20</td>\n",
       "    </tr>\n",
       "    <tr>\n",
       "      <th>992358</th>\n",
       "      <td>c27463bb6ac34fd4fd7a</td>\n",
       "      <td>Is Deja Vu something connected with parallel u...</td>\n",
       "      <td>0</td>\n",
       "      <td>(Is, Deja, Vu, something, connected, with, par...</td>\n",
       "      <td>9</td>\n",
       "    </tr>\n",
       "    <tr>\n",
       "      <th>800730</th>\n",
       "      <td>9ce67a8ceb7440aa1a7d</td>\n",
       "      <td>Why do the men from Turkey always scam the wom...</td>\n",
       "      <td>1</td>\n",
       "      <td>(Why, do, the, men, from, Turkey, always, scam...</td>\n",
       "      <td>14</td>\n",
       "    </tr>\n",
       "    <tr>\n",
       "      <th>1180412</th>\n",
       "      <td>e7510d13eb17cfa322b4</td>\n",
       "      <td>Why is tails called tails on a penny?</td>\n",
       "      <td>0</td>\n",
       "      <td>(Why, is, tails, called, tails, on, a, penny, ?)</td>\n",
       "      <td>9</td>\n",
       "    </tr>\n",
       "  </tbody>\n",
       "</table>\n",
       "</div>"
      ],
      "text/plain": [
       "                          qid  \\\n",
       "440801   5662c432672586e2c788   \n",
       "1213574  eddbc178b01f81b009a0   \n",
       "992358   c27463bb6ac34fd4fd7a   \n",
       "800730   9ce67a8ceb7440aa1a7d   \n",
       "1180412  e7510d13eb17cfa322b4   \n",
       "\n",
       "                                             question_text  target  \\\n",
       "440801   I have recently gained interest in digital mar...       0   \n",
       "1213574  What should people know in order to be a liber...       1   \n",
       "992358   Is Deja Vu something connected with parallel u...       0   \n",
       "800730   Why do the men from Turkey always scam the wom...       1   \n",
       "1180412              Why is tails called tails on a penny?       0   \n",
       "\n",
       "                                                    tokens  num_tokens  \n",
       "440801   (I, have, recently, gained, interest, in, digi...          34  \n",
       "1213574  (What, should, people, know, in, order, to, be...          20  \n",
       "992358   (Is, Deja, Vu, something, connected, with, par...           9  \n",
       "800730   (Why, do, the, men, from, Turkey, always, scam...          14  \n",
       "1180412   (Why, is, tails, called, tails, on, a, penny, ?)           9  "
      ]
     },
     "execution_count": 11,
     "metadata": {},
     "output_type": "execute_result"
    }
   ],
   "source": [
    "df['num_tokens'] = [len(token) for token in df.tokens]\n",
    "df.sample(5)"
   ]
  },
  {
   "cell_type": "code",
   "execution_count": 12,
   "metadata": {},
   "outputs": [
    {
     "data": {
      "image/png": "[encoded data removed]",
      "text/plain": [
       "<Figure size 1440x504 with 1 Axes>"
      ]
     },
     "metadata": {},
     "output_type": "display_data"
    }
   ],
   "source": [
    "# using seaborns boxplot to visualize number of tokens per question\n",
    "fig, ax = plt.subplots()\n",
    "g = sns.boxplot(x=df.target, y=df.num_tokens)\n",
    "g.set_xticklabels(['Sincere', 'Insincere'])\n",
    "g.set_yticklabels([])\n",
    "\n",
    "\n",
    "\n",
    "sns.despine(left=True, bottom=True)\n",
    "plt.xlabel('')\n",
    "plt.ylabel('')\n",
    "plt.title('Number of Tokens per Question', fontsize=30)\n",
    "plt.tick_params(axis='x', which='major', labelsize=15)\n",
    "plt.show()"
   ]
  },
  {
   "cell_type": "code",
   "execution_count": 13,
   "metadata": {},
   "outputs": [
    {
     "data": {
      "text/plain": [
       "[What, apps, Linux, C]"
      ]
     },
     "execution_count": 13,
     "metadata": {},
     "output_type": "execute_result"
    }
   ],
   "source": [
    "## possibly come back to this? get base noun-phrase\n",
    "list(df.iloc[0, 3].noun_chunks)"
   ]
  },
  {
   "cell_type": "code",
   "execution_count": 14,
   "metadata": {},
   "outputs": [
    {
     "name": "stdout",
     "output_type": "stream",
     "text": [
      "[What is the best to learn developing apps on Linux using C?]\n"
     ]
    },
    {
     "data": {
      "text/html": [
       "<div>\n",
       "<style scoped>\n",
       "    .dataframe tbody tr th:only-of-type {\n",
       "        vertical-align: middle;\n",
       "    }\n",
       "\n",
       "    .dataframe tbody tr th {\n",
       "        vertical-align: top;\n",
       "    }\n",
       "\n",
       "    .dataframe thead th {\n",
       "        text-align: right;\n",
       "    }\n",
       "</style>\n",
       "<table border=\"1\" class=\"dataframe\">\n",
       "  <thead>\n",
       "    <tr style=\"text-align: right;\">\n",
       "      <th></th>\n",
       "      <th>qid</th>\n",
       "      <th>question_text</th>\n",
       "      <th>target</th>\n",
       "      <th>tokens</th>\n",
       "      <th>num_tokens</th>\n",
       "      <th>num_sents</th>\n",
       "    </tr>\n",
       "  </thead>\n",
       "  <tbody>\n",
       "    <tr>\n",
       "      <th>225283</th>\n",
       "      <td>2c0e95c9632e2f3020ea</td>\n",
       "      <td>Are all ELSS plans tax savings?</td>\n",
       "      <td>0</td>\n",
       "      <td>(Are, all, ELSS, plans, tax, savings, ?)</td>\n",
       "      <td>7</td>\n",
       "      <td>1</td>\n",
       "    </tr>\n",
       "    <tr>\n",
       "      <th>311374</th>\n",
       "      <td>3cfe97629235473da201</td>\n",
       "      <td>Which direction points towards Allah?</td>\n",
       "      <td>0</td>\n",
       "      <td>(Which, direction, points, towards, Allah, ?)</td>\n",
       "      <td>6</td>\n",
       "      <td>1</td>\n",
       "    </tr>\n",
       "    <tr>\n",
       "      <th>482652</th>\n",
       "      <td>5e81d03be0f8bdc6e406</td>\n",
       "      <td>Approximately what minimum CAT 2017 percentile...</td>\n",
       "      <td>0</td>\n",
       "      <td>(Approximately, what, minimum, CAT, 2017, perc...</td>\n",
       "      <td>28</td>\n",
       "      <td>1</td>\n",
       "    </tr>\n",
       "    <tr>\n",
       "      <th>809108</th>\n",
       "      <td>9e8e71eac26ede6aeb9d</td>\n",
       "      <td>Who do Pakistani construction workers in the M...</td>\n",
       "      <td>1</td>\n",
       "      <td>(Who, do, Pakistani, construction, workers, in...</td>\n",
       "      <td>18</td>\n",
       "      <td>1</td>\n",
       "    </tr>\n",
       "    <tr>\n",
       "      <th>299784</th>\n",
       "      <td>3ab2e39a22aa2800e2de</td>\n",
       "      <td>How does it feel (for Indians) to live in USA ...</td>\n",
       "      <td>1</td>\n",
       "      <td>(How, does, it, feel, (, for, Indians, ), to, ...</td>\n",
       "      <td>29</td>\n",
       "      <td>1</td>\n",
       "    </tr>\n",
       "  </tbody>\n",
       "</table>\n",
       "</div>"
      ],
      "text/plain": [
       "                         qid  \\\n",
       "225283  2c0e95c9632e2f3020ea   \n",
       "311374  3cfe97629235473da201   \n",
       "482652  5e81d03be0f8bdc6e406   \n",
       "809108  9e8e71eac26ede6aeb9d   \n",
       "299784  3ab2e39a22aa2800e2de   \n",
       "\n",
       "                                            question_text  target  \\\n",
       "225283                    Are all ELSS plans tax savings?       0   \n",
       "311374              Which direction points towards Allah?       0   \n",
       "482652  Approximately what minimum CAT 2017 percentile...       0   \n",
       "809108  Who do Pakistani construction workers in the M...       1   \n",
       "299784  How does it feel (for Indians) to live in USA ...       1   \n",
       "\n",
       "                                                   tokens  num_tokens  \\\n",
       "225283           (Are, all, ELSS, plans, tax, savings, ?)           7   \n",
       "311374      (Which, direction, points, towards, Allah, ?)           6   \n",
       "482652  (Approximately, what, minimum, CAT, 2017, perc...          28   \n",
       "809108  (Who, do, Pakistani, construction, workers, in...          18   \n",
       "299784  (How, does, it, feel, (, for, Indians, ), to, ...          29   \n",
       "\n",
       "        num_sents  \n",
       "225283          1  \n",
       "311374          1  \n",
       "482652          1  \n",
       "809108          1  \n",
       "299784          1  "
      ]
     },
     "execution_count": 14,
     "metadata": {},
     "output_type": "execute_result"
    }
   ],
   "source": [
    "# get number of sentences per question\n",
    "print(list(df.iloc[0,3].sents))\n",
    "\n",
    "sents = [list(x.sents) for x in df.tokens]\n",
    "df['num_sents'] = [len(sent) for sent in sents]\n",
    "df.sample(5)"
   ]
  },
  {
   "cell_type": "code",
   "execution_count": 15,
   "metadata": {},
   "outputs": [
    {
     "data": {
      "image/png": "[encoded data removed]",
      "text/plain": [
       "<Figure size 1440x504 with 1 Axes>"
      ]
     },
     "metadata": {},
     "output_type": "display_data"
    }
   ],
   "source": [
    "# plotting number of sentences per question\n",
    "fig, ax = plt.subplots()\n",
    "g = sns.countplot(df.num_sents, hue=df.target)\n",
    "#g.set_xticklabels(['Sincere', 'Insincere'])\n",
    "g.set_yticklabels([])\n",
    "\n",
    "# using log scale on y-axis so we can better see the questions with more sentences\n",
    "ax.set(yscale='log')\n",
    "\n",
    "sns.despine(left=True, bottom=True)\n",
    "plt.xlabel('')\n",
    "plt.ylabel('')\n",
    "plt.title('Number of Sentences per Question', fontsize=30)\n",
    "plt.tick_params(axis='x', which='major', labelsize=15)\n",
    "plt.show()"
   ]
  }
 ],
 "metadata": {
  "kernelspec": {
   "display_name": "Python 3",
   "language": "python",
   "name": "python3"
  },
  "language_info": {
   "codemirror_mode": {
    "name": "ipython",
    "version": 3
   },
   "file_extension": ".py",
   "mimetype": "text/x-python",
   "name": "python",
   "nbconvert_exporter": "python",
   "pygments_lexer": "ipython3",
   "version": "3.6.5"
  }
 },
 "nbformat": 4,
 "nbformat_minor": 2
}
